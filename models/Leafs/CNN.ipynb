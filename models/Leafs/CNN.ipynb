{
 "cells": [
  {
   "cell_type": "code",
   "execution_count": null,
   "id": "a7dfff30",
   "metadata": {},
   "outputs": [],
   "source": [
    "import os\n",
    "from pathlib import Path\n",
    "from torchvision import transforms, datasets, models\n",
    "from torch.utils.data import DataLoader, random_split\n",
    "import torch\n",
    "import torch.nn as nn\n",
    "import torch.optim as optim\n",
    "from tqdm import tqdm\n",
    "\n",
    "# ============ CONFIG ============\n",
    "DATA_DIR = \"./\"  # contains /Normal and /Insufficient\n",
    "BATCH_SIZE = 32\n",
    "EPOCHS = 10\n",
    "LR = 1e-4\n",
    "IMG_SIZE = 224\n",
    "VAL_SPLIT = 0.2\n",
    "SEED = 42\n",
    "DEVICE = torch.device(\"cuda\" if torch.cuda.is_available() else \"cpu\")\n",
    "\n",
    "# ============ AUGMENTATION ============\n",
    "transform_train = transforms.Compose([\n",
    "    transforms.Resize((IMG_SIZE, IMG_SIZE)),\n",
    "    transforms.RandomHorizontalFlip(),\n",
    "    transforms.RandomRotation(15),\n",
    "    transforms.ColorJitter(brightness=0.3, contrast=0.3, saturation=0.3),\n",
    "    transforms.RandomResizedCrop(IMG_SIZE, scale=(0.8, 1.0)),\n",
    "    transforms.ToTensor(),\n",
    "    transforms.Normalize(mean=[0.485, 0.456, 0.406],  std=[0.229, 0.224, 0.225])\n",
    "])\n",
    "\n",
    "transform_val = transforms.Compose([\n",
    "    transforms.Resize((IMG_SIZE, IMG_SIZE)),\n",
    "    transforms.ToTensor(),\n",
    "    transforms.Normalize(mean=[0.485, 0.456, 0.406],  std=[0.229, 0.224, 0.225])\n",
    "])\n",
    "\n",
    "# ============ DATASET ============\n",
    "torch.manual_seed(SEED)\n",
    "dataset = datasets.ImageFolder(DATA_DIR, transform=transform_train)\n",
    "val_size = int(len(dataset) * VAL_SPLIT)\n",
    "train_size = len(dataset) - val_size\n",
    "train_ds, val_ds = random_split(dataset, [train_size, val_size])\n",
    "\n",
    "val_ds.dataset.transform = transform_val\n",
    "\n",
    "train_loader = DataLoader(train_ds, batch_size=BATCH_SIZE, shuffle=True)\n",
    "val_loader = DataLoader(val_ds, batch_size=BATCH_SIZE)\n",
    "\n",
    "# ============ MODEL ============\n",
    "model = models.resnet18(pretrained=True)\n",
    "model.fc = nn.Linear(model.fc.in_features, 1)  # Binary output\n",
    "model = model.to(DEVICE)\n",
    "\n",
    "# ============ TRAINING ============\n",
    "criterion = nn.BCEWithLogitsLoss()\n",
    "optimizer = optim.Adam(model.parameters(), lr=LR)\n",
    "\n",
    "def train():\n",
    "    model.train()\n",
    "    total_loss = 0\n",
    "    for imgs, labels in tqdm(train_loader, desc=\"Training\"):\n",
    "        imgs, labels = imgs.to(DEVICE), labels.to(DEVICE).float().unsqueeze(1)\n",
    "        outputs = model(imgs)\n",
    "        loss = criterion(outputs, labels)\n",
    "\n",
    "        optimizer.zero_grad()\n",
    "        loss.backward()\n",
    "        optimizer.step()\n",
    "        total_loss += loss.item()\n",
    "    return total_loss / len(train_loader)\n",
    "\n",
    "def evaluate():\n",
    "    model.eval()\n",
    "    total, correct = 0, 0\n",
    "    with torch.no_grad():\n",
    "        for imgs, labels in val_loader:\n",
    "            imgs, labels = imgs.to(DEVICE), labels.to(DEVICE).float().unsqueeze(1)\n",
    "            outputs = model(imgs)\n",
    "            preds = torch.sigmoid(outputs) > 0.5\n",
    "            correct += (preds == labels).sum().item()\n",
    "            total += labels.size(0)\n",
    "    return correct / total\n",
    "\n",
    "# ============ MAIN LOOP ============\n",
    "for epoch in range(EPOCHS):\n",
    "    loss = train()\n",
    "    acc = evaluate()\n",
    "    print(f\"[Epoch {epoch+1}] Loss: {loss:.4f} | Val Accuracy: {acc*100:.2f}%\")\n"
   ]
  },
  {
   "cell_type": "markdown",
   "id": "d7e09e2f",
   "metadata": {},
   "source": [
    "# Save the model"
   ]
  },
  {
   "cell_type": "code",
   "execution_count": null,
   "id": "e5199448",
   "metadata": {},
   "outputs": [],
   "source": [
    "# Save final model\n",
    "torch.save(model.state_dict(), \"leaf_classifier.pth\")\n",
    "print(\"Model saved to leaf_classifier.pth\")"
   ]
  },
  {
   "cell_type": "markdown",
   "id": "1cef83e6",
   "metadata": {},
   "source": [
    "# Inference Function"
   ]
  },
  {
   "cell_type": "code",
   "execution_count": null,
   "id": "7d1148e4",
   "metadata": {},
   "outputs": [],
   "source": [
    "def predict_image(path):\n",
    "    model.eval()\n",
    "    image = Image.open(path).convert(\"RGB\")\n",
    "    transform = transform_val  # use validation transform\n",
    "    image_tensor = transform(image).unsqueeze(0).to(DEVICE)\n",
    "\n",
    "    with torch.no_grad():\n",
    "        output = model(image_tensor)\n",
    "        pred = torch.sigmoid(output).item()\n",
    "\n",
    "        label_map = {0: \"Insufficient\", 1: \"Normal\"}  # Adjust if needed\n",
    "        label = label_map[int(pred > 0.5)]\n",
    "        confidence = pred if pred > 0.5 else 1 - pred\n",
    "\n",
    "        print(f\"Prediction: {label} ({confidence*100:.2f}% confidence)\")"
   ]
  },
  {
   "cell_type": "markdown",
   "id": "fee131c5",
   "metadata": {},
   "source": [
    "# Real Testing :"
   ]
  },
  {
   "cell_type": "code",
   "execution_count": null,
   "id": "c3ae313b",
   "metadata": {},
   "outputs": [],
   "source": [
    "predict_image('Healthy_003.jpg')"
   ]
  }
 ],
 "metadata": {
  "kernelspec": {
   "display_name": "agri",
   "language": "python",
   "name": "python3"
  },
  "language_info": {
   "codemirror_mode": {
    "name": "ipython",
    "version": 3
   },
   "file_extension": ".py",
   "mimetype": "text/x-python",
   "name": "python",
   "nbconvert_exporter": "python",
   "pygments_lexer": "ipython3",
   "version": "3.10.18"
  }
 },
 "nbformat": 4,
 "nbformat_minor": 5
}
