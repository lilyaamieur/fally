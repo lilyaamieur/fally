{
 "cells": [
  {
   "cell_type": "code",
   "execution_count": 2,
   "id": "04f3776e",
   "metadata": {},
   "outputs": [
    {
     "name": "stdout",
     "output_type": "stream",
     "text": [
      "Saved adjusted images to: Greener\n"
     ]
    }
   ],
   "source": [
    "import cv2\n",
    "import numpy as np\n",
    "from pathlib import Path\n",
    "\n",
    "def adjust_leaf_colors(input_folder, output_folder, green_factor=0.7, yellow_factor=0.8, blue_factor=0.9):\n",
    "    input_folder = Path(input_folder)\n",
    "    output_folder = Path(output_folder)\n",
    "    output_folder.mkdir(parents=True, exist_ok=True)\n",
    "\n",
    "    for image_path in input_folder.glob(\"*.*\"):\n",
    "        img = cv2.imread(str(image_path))\n",
    "        if img is None:\n",
    "            continue\n",
    "\n",
    "        hsv = cv2.cvtColor(img, cv2.COLOR_BGR2HSV)\n",
    "\n",
    "        # Define HSV ranges\n",
    "        green_range = (np.array([35, 40, 40]), np.array([85, 255, 255]))\n",
    "        yellow_range = (np.array([20, 40, 40]), np.array([35, 255, 255]))\n",
    "        blue_range = (np.array([90, 40, 40]), np.array([130, 255, 255]))\n",
    "\n",
    "        # Create masks\n",
    "        green_mask = cv2.inRange(hsv, *green_range)\n",
    "        yellow_mask = cv2.inRange(hsv, *yellow_range)\n",
    "        blue_mask = cv2.inRange(hsv, *blue_range)\n",
    "\n",
    "        # Reduce brightness (V channel) by factors\n",
    "        hsv[..., 2] = np.where(green_mask > 0, (hsv[..., 2] * green_factor).astype(np.uint8), hsv[..., 2])\n",
    "        hsv[..., 2] = np.where(yellow_mask > 0, (hsv[..., 2] * yellow_factor).astype(np.uint8), hsv[..., 2])\n",
    "        hsv[..., 2] = np.where(blue_mask > 0, (hsv[..., 2] * blue_factor).astype(np.uint8), hsv[..., 2])\n",
    "\n",
    "        output = cv2.cvtColor(hsv, cv2.COLOR_HSV2BGR)\n",
    "        cv2.imwrite(str(output_folder / image_path.name), output)\n",
    "\n",
    "    print(f\"Saved adjusted images to: {output_folder}\")\n",
    "\n",
    "# Example usage\n",
    "adjust_leaf_colors(\n",
    "    input_folder=\"Healthy\", \n",
    "    output_folder=\"Greener\",\n",
    "    green_factor=0.5,     # darker green\n",
    "    yellow_factor=0.5,    # mute yellow\n",
    "    blue_factor=0.6       # dim blue (e.g. sky)\n",
    ")\n"
   ]
  }
 ],
 "metadata": {
  "kernelspec": {
   "display_name": "agri",
   "language": "python",
   "name": "python3"
  },
  "language_info": {
   "codemirror_mode": {
    "name": "ipython",
    "version": 3
   },
   "file_extension": ".py",
   "mimetype": "text/x-python",
   "name": "python",
   "nbconvert_exporter": "python",
   "pygments_lexer": "ipython3",
   "version": "3.10.18"
  }
 },
 "nbformat": 4,
 "nbformat_minor": 5
}
